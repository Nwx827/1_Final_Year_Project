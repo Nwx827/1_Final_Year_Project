{
 "cells": [
  {
   "cell_type": "code",
   "execution_count": 2,
   "id": "c0b8aa8b",
   "metadata": {},
   "outputs": [],
   "source": [
    "# Load and preprocess\n",
    "import pandas as pd\n",
    "from sklearn.model_selection import train_test_split\n",
    "from utils.preprocessing import load_and_clean_data\n",
    "\n",
    "df = load_and_clean_data(\"data/raw/IMDB Dataset.csv\")\n",
    "\n",
    "# Split\n",
    "X_train, X_test, y_train, y_test = train_test_split(df['review'], df['sentiment'], test_size=0.2, random_state=42, stratify=df['sentiment'])\n",
    "\n",
    "# Encode labels\n",
    "from sklearn.preprocessing import LabelEncoder\n",
    "le = LabelEncoder()\n",
    "y_train = le.fit_transform(y_train)\n",
    "y_test = le.transform(y_test)"
   ]
  },
  {
   "cell_type": "code",
   "execution_count": 3,
   "id": "35f3059f",
   "metadata": {},
   "outputs": [],
   "source": [
    "import numpy as np\n",
    "import tensorflow as tf\n",
    "from tensorflow.keras.preprocessing.text import Tokenizer\n",
    "from tensorflow.keras.preprocessing.sequence import pad_sequences\n",
    "from tensorflow.keras.utils import to_categorical\n",
    "\n",
    "# Tokenization\n",
    "max_words = 10000\n",
    "max_len = 200\n",
    "\n",
    "tokenizer = Tokenizer(num_words=max_words, oov_token=\"<OOV>\")\n",
    "tokenizer.fit_on_texts(X_train)\n",
    "\n",
    "X_train_seq = tokenizer.texts_to_sequences(X_train)\n",
    "X_test_seq = tokenizer.texts_to_sequences(X_test)\n",
    "\n",
    "X_train_pad = pad_sequences(X_train_seq, maxlen=max_len)\n",
    "X_test_pad = pad_sequences(X_test_seq, maxlen=max_len)\n",
    "\n",
    "# Encode labels for DL\n",
    "y_train_dl = np.array(y_train)\n",
    "y_test_dl = np.array(y_test)\n"
   ]
  },
  {
   "cell_type": "code",
   "execution_count": 4,
   "id": "4effc395",
   "metadata": {},
   "outputs": [
    {
     "name": "stdout",
     "output_type": "stream",
     "text": [
      "WARNING:tensorflow:From C:\\Anaconda\\Lib\\site-packages\\keras\\src\\backend.py:873: The name tf.get_default_graph is deprecated. Please use tf.compat.v1.get_default_graph instead.\n",
      "\n",
      "WARNING:tensorflow:From C:\\Anaconda\\Lib\\site-packages\\keras\\src\\optimizers\\__init__.py:309: The name tf.train.Optimizer is deprecated. Please use tf.compat.v1.train.Optimizer instead.\n",
      "\n",
      "Model: \"sequential\"\n",
      "_________________________________________________________________\n",
      " Layer (type)                Output Shape              Param #   \n",
      "=================================================================\n",
      " embedding (Embedding)       (None, 200, 64)           640000    \n",
      "                                                                 \n",
      " lstm (LSTM)                 (None, 64)                33024     \n",
      "                                                                 \n",
      " dense (Dense)               (None, 1)                 65        \n",
      "                                                                 \n",
      "=================================================================\n",
      "Total params: 673089 (2.57 MB)\n",
      "Trainable params: 673089 (2.57 MB)\n",
      "Non-trainable params: 0 (0.00 Byte)\n",
      "_________________________________________________________________\n",
      "Epoch 1/5\n",
      "WARNING:tensorflow:From C:\\Anaconda\\Lib\\site-packages\\keras\\src\\utils\\tf_utils.py:492: The name tf.ragged.RaggedTensorValue is deprecated. Please use tf.compat.v1.ragged.RaggedTensorValue instead.\n",
      "\n",
      "WARNING:tensorflow:From C:\\Anaconda\\Lib\\site-packages\\keras\\src\\engine\\base_layer_utils.py:384: The name tf.executing_eagerly_outside_functions is deprecated. Please use tf.compat.v1.executing_eagerly_outside_functions instead.\n",
      "\n",
      "250/250 [==============================] - 32s 120ms/step - loss: 0.4079 - accuracy: 0.8101 - val_loss: 0.3421 - val_accuracy: 0.8540\n",
      "Epoch 2/5\n",
      "250/250 [==============================] - 30s 118ms/step - loss: 0.2474 - accuracy: 0.9027 - val_loss: 0.2848 - val_accuracy: 0.8808\n",
      "Epoch 3/5\n",
      "250/250 [==============================] - 30s 120ms/step - loss: 0.1957 - accuracy: 0.9258 - val_loss: 0.3219 - val_accuracy: 0.8780\n",
      "Epoch 4/5\n",
      "250/250 [==============================] - 30s 119ms/step - loss: 0.1612 - accuracy: 0.9412 - val_loss: 0.3226 - val_accuracy: 0.8714\n",
      "Epoch 5/5\n",
      "250/250 [==============================] - 30s 119ms/step - loss: 0.1385 - accuracy: 0.9484 - val_loss: 0.4117 - val_accuracy: 0.8709\n",
      "313/313 [==============================] - 6s 18ms/step - loss: 0.4046 - accuracy: 0.8694\n"
     ]
    },
    {
     "data": {
      "text/plain": [
       "[0.4046471118927002, 0.8694000244140625]"
      ]
     },
     "execution_count": 4,
     "metadata": {},
     "output_type": "execute_result"
    }
   ],
   "source": [
    "lstm_model = tf.keras.Sequential([\n",
    "    tf.keras.layers.Embedding(input_dim=max_words, output_dim=64, input_length=max_len),\n",
    "    tf.keras.layers.LSTM(64),\n",
    "    tf.keras.layers.Dense(1, activation='sigmoid')\n",
    "])\n",
    "\n",
    "lstm_model.compile(loss='binary_crossentropy', optimizer='adam', metrics=['accuracy'])\n",
    "\n",
    "lstm_model.summary()\n",
    "\n",
    "lstm_model.fit(X_train_pad, y_train_dl, validation_split=0.2, epochs=5, batch_size=128)\n",
    "lstm_model.evaluate(X_test_pad, y_test_dl)\n"
   ]
  },
  {
   "cell_type": "code",
   "execution_count": 5,
   "id": "bfbfecd2",
   "metadata": {},
   "outputs": [
    {
     "name": "stdout",
     "output_type": "stream",
     "text": [
      "Model: \"sequential_1\"\n",
      "_________________________________________________________________\n",
      " Layer (type)                Output Shape              Param #   \n",
      "=================================================================\n",
      " embedding_1 (Embedding)     (None, 200, 64)           640000    \n",
      "                                                                 \n",
      " conv1d (Conv1D)             (None, 196, 128)          41088     \n",
      "                                                                 \n",
      " global_max_pooling1d (Glob  (None, 128)               0         \n",
      " alMaxPooling1D)                                                 \n",
      "                                                                 \n",
      " dense_1 (Dense)             (None, 1)                 129       \n",
      "                                                                 \n",
      "=================================================================\n",
      "Total params: 681217 (2.60 MB)\n",
      "Trainable params: 681217 (2.60 MB)\n",
      "Non-trainable params: 0 (0.00 Byte)\n",
      "_________________________________________________________________\n",
      "Epoch 1/5\n",
      "250/250 [==============================] - 8s 28ms/step - loss: 0.4940 - accuracy: 0.7642 - val_loss: 0.3275 - val_accuracy: 0.8626\n",
      "Epoch 2/5\n",
      "250/250 [==============================] - 7s 28ms/step - loss: 0.2683 - accuracy: 0.8919 - val_loss: 0.2865 - val_accuracy: 0.8810\n",
      "Epoch 3/5\n",
      "250/250 [==============================] - 7s 27ms/step - loss: 0.1805 - accuracy: 0.9332 - val_loss: 0.2861 - val_accuracy: 0.8839\n",
      "Epoch 4/5\n",
      "250/250 [==============================] - 7s 28ms/step - loss: 0.1160 - accuracy: 0.9621 - val_loss: 0.3158 - val_accuracy: 0.8767\n",
      "Epoch 5/5\n",
      "250/250 [==============================] - 7s 27ms/step - loss: 0.0675 - accuracy: 0.9825 - val_loss: 0.3509 - val_accuracy: 0.8752\n",
      "313/313 [==============================] - 1s 2ms/step - loss: 0.3621 - accuracy: 0.8705\n"
     ]
    },
    {
     "data": {
      "text/plain": [
       "[0.36207982897758484, 0.8705000281333923]"
      ]
     },
     "execution_count": 5,
     "metadata": {},
     "output_type": "execute_result"
    }
   ],
   "source": [
    "cnn_model = tf.keras.Sequential([\n",
    "    tf.keras.layers.Embedding(input_dim=max_words, output_dim=64, input_length=max_len),\n",
    "    tf.keras.layers.Conv1D(128, 5, activation='relu'),\n",
    "    tf.keras.layers.GlobalMaxPooling1D(),\n",
    "    tf.keras.layers.Dense(1, activation='sigmoid')\n",
    "])\n",
    "\n",
    "cnn_model.compile(loss='binary_crossentropy', optimizer='adam', metrics=['accuracy'])\n",
    "\n",
    "cnn_model.summary()\n",
    "\n",
    "cnn_model.fit(X_train_pad, y_train_dl, validation_split=0.2, epochs=5, batch_size=128)\n",
    "cnn_model.evaluate(X_test_pad, y_test_dl)\n"
   ]
  },
  {
   "cell_type": "code",
   "execution_count": 14,
   "id": "6a4cb220",
   "metadata": {},
   "outputs": [
    {
     "name": "stdout",
     "output_type": "stream",
     "text": [
      "INFO:tensorflow:Assets written to: model/DL/lstm_model\\assets\n"
     ]
    },
    {
     "name": "stderr",
     "output_type": "stream",
     "text": [
      "INFO:tensorflow:Assets written to: model/DL/lstm_model\\assets\n"
     ]
    },
    {
     "name": "stdout",
     "output_type": "stream",
     "text": [
      "INFO:tensorflow:Assets written to: model/DL/cnn_model\\assets\n"
     ]
    },
    {
     "name": "stderr",
     "output_type": "stream",
     "text": [
      "INFO:tensorflow:Assets written to: model/DL/cnn_model\\assets\n"
     ]
    }
   ],
   "source": [
    "lstm_model.save(\"model/DL/lstm_model\")\n",
    "cnn_model.save(\"model/DL/cnn_model\")"
   ]
  },
  {
   "cell_type": "code",
   "execution_count": 15,
   "id": "ff2b146b",
   "metadata": {},
   "outputs": [
    {
     "name": "stdout",
     "output_type": "stream",
     "text": [
      "WARNING:tensorflow:From C:\\Anaconda\\Lib\\site-packages\\keras\\src\\saving\\legacy\\saved_model\\load.py:107: The name tf.gfile.Exists is deprecated. Please use tf.io.gfile.exists instead.\n",
      "\n"
     ]
    },
    {
     "name": "stderr",
     "output_type": "stream",
     "text": [
      "WARNING:tensorflow:From C:\\Anaconda\\Lib\\site-packages\\keras\\src\\saving\\legacy\\saved_model\\load.py:107: The name tf.gfile.Exists is deprecated. Please use tf.io.gfile.exists instead.\n",
      "\n"
     ]
    },
    {
     "name": "stdout",
     "output_type": "stream",
     "text": [
      "LSTM Model Summary:\n",
      "Model: \"sequential\"\n",
      "_________________________________________________________________\n",
      " Layer (type)                Output Shape              Param #   \n",
      "=================================================================\n",
      " embedding (Embedding)       (None, 200, 64)           640000    \n",
      "                                                                 \n",
      " lstm (LSTM)                 (None, 64)                33024     \n",
      "                                                                 \n",
      " dense (Dense)               (None, 1)                 65        \n",
      "                                                                 \n",
      "=================================================================\n",
      "Total params: 673089 (2.57 MB)\n",
      "Trainable params: 673089 (2.57 MB)\n",
      "Non-trainable params: 0 (0.00 Byte)\n",
      "_________________________________________________________________\n",
      "\n",
      "CNN Model Summary:\n",
      "Model: \"sequential_1\"\n",
      "_________________________________________________________________\n",
      " Layer (type)                Output Shape              Param #   \n",
      "=================================================================\n",
      " embedding_1 (Embedding)     (None, 200, 64)           640000    \n",
      "                                                                 \n",
      " conv1d (Conv1D)             (None, 196, 128)          41088     \n",
      "                                                                 \n",
      " global_max_pooling1d (Glob  (None, 128)               0         \n",
      " alMaxPooling1D)                                                 \n",
      "                                                                 \n",
      " dense_1 (Dense)             (None, 1)                 129       \n",
      "                                                                 \n",
      "=================================================================\n",
      "Total params: 681217 (2.60 MB)\n",
      "Trainable params: 681217 (2.60 MB)\n",
      "Non-trainable params: 0 (0.00 Byte)\n",
      "_________________________________________________________________\n",
      "\n",
      "Contents of the 'model/DL' directory:\n",
      "['.ipynb_checkpoints', 'cnn_model', 'lstm_model']\n"
     ]
    }
   ],
   "source": [
    "import os\n",
    "from tensorflow.keras.models import load_model\n",
    "\n",
    "# Load the saved models\n",
    "lstm_model = load_model(\"model/DL/lstm_model\")\n",
    "cnn_model = load_model(\"model/DL/cnn_model\")\n",
    "\n",
    "# Print model summaries to see the architecture of each model\n",
    "print(\"LSTM Model Summary:\")\n",
    "lstm_model.summary()\n",
    "\n",
    "print(\"\\nCNN Model Summary:\")\n",
    "cnn_model.summary()\n",
    "\n",
    "# List files in the directory where the models are saved to ensure they are there\n",
    "print(\"\\nContents of the 'model/DL' directory:\")\n",
    "print(os.listdir(\"model/DL\"))"
   ]
  }
 ],
 "metadata": {
  "kernelspec": {
   "display_name": "fyp",
   "language": "python",
   "name": "python3"
  },
  "language_info": {
   "codemirror_mode": {
    "name": "ipython",
    "version": 3
   },
   "file_extension": ".py",
   "mimetype": "text/x-python",
   "name": "python",
   "nbconvert_exporter": "python",
   "pygments_lexer": "ipython3",
   "version": "3.10.18"
  }
 },
 "nbformat": 4,
 "nbformat_minor": 5
}
